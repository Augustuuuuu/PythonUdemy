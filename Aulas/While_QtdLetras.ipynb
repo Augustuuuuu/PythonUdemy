{
 "cells": [
  {
   "cell_type": "code",
   "execution_count": 6,
   "metadata": {},
   "outputs": [
    {
     "name": "stdout",
     "output_type": "stream",
     "text": [
      "H 1\n",
      "o 4\n",
      "j 1\n",
      "e 7\n",
      "  14\n",
      "e 7\n",
      "u 4\n",
      "  14\n",
      "f 1\n",
      "i 3\n",
      "z 1\n",
      "  14\n",
      "u 4\n",
      "m 1\n",
      "a 4\n",
      "  14\n",
      "p 1\n",
      "r 5\n",
      "o 4\n",
      "v 1\n",
      "a 4\n",
      "  14\n",
      "s 3\n",
      "o 4\n",
      "b 1\n",
      "r 5\n",
      "e 7\n",
      "  14\n",
      "E 1\n",
      "s 3\n",
      "t 3\n",
      "r 5\n",
      "u 4\n",
      "t 3\n",
      "u 4\n",
      "r 5\n",
      "a 4\n",
      "  14\n",
      "d 3\n",
      "e 7\n",
      "  14\n",
      "D 1\n",
      "a 4\n",
      "d 3\n",
      "o 4\n",
      "s 3\n",
      "  14\n",
      "I 2\n",
      "I 2\n",
      "  14\n",
      "e 7\n",
      "  14\n",
      "t 3\n",
      "i 3\n",
      "r 5\n",
      "e 7\n",
      "i 3\n",
      "  14\n",
      "2 2\n",
      ". 2\n",
      "1 1\n",
      "3 1\n",
      "  14\n",
      "d 3\n",
      "e 7\n",
      "  14\n",
      "2 2\n",
      ". 2\n",
      "5 1\n"
     ]
    }
   ],
   "source": [
    "frase = \"Hoje eu fiz uma prova sobre Estrutura de Dados II e tirei 2.13 de 2.5\"\n",
    "\n",
    "i = 0\n",
    "while i < len(frase):\n",
    "    letra = frase[i]\n",
    "    qtdLetra = frase.count(letra)\n",
    "    print(letra, qtdLetra)\n",
    "    i+=1"
   ]
  }
 ],
 "metadata": {
  "kernelspec": {
   "display_name": "Python 3",
   "language": "python",
   "name": "python3"
  },
  "language_info": {
   "codemirror_mode": {
    "name": "ipython",
    "version": 3
   },
   "file_extension": ".py",
   "mimetype": "text/x-python",
   "name": "python",
   "nbconvert_exporter": "python",
   "pygments_lexer": "ipython3",
   "version": "3.12.7"
  }
 },
 "nbformat": 4,
 "nbformat_minor": 2
}
